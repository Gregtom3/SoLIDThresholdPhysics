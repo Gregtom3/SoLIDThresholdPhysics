{
 "cells": [
  {
   "cell_type": "code",
   "execution_count": 1,
   "id": "french-blair",
   "metadata": {},
   "outputs": [
    {
     "name": "stdout",
     "output_type": "stream",
     "text": [
      "Welcome to JupyROOT 6.22/06\n"
     ]
    }
   ],
   "source": [
    "import ROOT\n",
    "import os\n",
    "%run ../src/plotting_toolkit.py"
   ]
  },
  {
   "cell_type": "code",
   "execution_count": 2,
   "id": "defensive-medicine",
   "metadata": {},
   "outputs": [],
   "source": [
    "PROJECT_NAME = \"test4\"\n",
    "PROJECT_PATH = \"/volatile/clas12/users/gmat/solid.data/coherent_deuteron_threshold/projects/\"\n",
    "TARGET_TYPE  = \"d\"\n",
    "PLOT_DIR = f\"./plots/{PROJECT_NAME}/kinematic_coverage\"\n",
    "PLOT_DIR_PNG = f\"{PLOT_DIR}/png\"\n",
    "PLOT_DIR_PDF = f\"{PLOT_DIR}/pdf\"\n",
    "try:\n",
    "    os.makedirs(PLOT_DIR)\n",
    "    os.makedirs(PLOT_DIR_PNG)\n",
    "    os.makedirs(PLOT_DIR_PDF)\n",
    "    print(f\"Created directory: {PLOT_DIR}\")\n",
    "except:\n",
    "    pass"
   ]
  },
  {
   "cell_type": "code",
   "execution_count": 3,
   "id": "altered-silly",
   "metadata": {},
   "outputs": [],
   "source": [
    "bh_tree, photo_tree, electro_tree = get_tchains(PROJECT_NAME,PROJECT_PATH,\"acc\")\n",
    "\n",
    "beam_energy, integrated_luminosity, bh_events, days = get_beamE_lumi_events_days(PROJECT_NAME,PROJECT_PATH,\"bh\")\n",
    "_, _, photo_events, _                               = get_beamE_lumi_events_days(PROJECT_NAME,PROJECT_PATH,\"photoproduction\")\n",
    "_, _, electro_events, _                               = get_beamE_lumi_events_days(PROJECT_NAME,PROJECT_PATH,\"electroproduction\")\n",
    "\n",
    "luminosity = get_lumi_from_integrated(integrated_luminosity,TARGET_TYPE,days)"
   ]
  },
  {
   "cell_type": "code",
   "execution_count": 4,
   "id": "registered-austin",
   "metadata": {},
   "outputs": [
    {
     "name": "stderr",
     "output_type": "stream",
     "text": [
      "Warning in <TROOT::Append>: Replacing existing TH1: hist (Potential memory leak).\n",
      "Warning in <TROOT::Append>: Replacing existing TH1: hist (Potential memory leak).\n",
      "Warning in <TROOT::Append>: Replacing existing TH1: hist (Potential memory leak).\n",
      "Warning in <TROOT::Append>: Replacing existing TH1: hist (Potential memory leak).\n",
      "Warning in <TROOT::Append>: Replacing existing TH1: hist (Potential memory leak).\n",
      "Warning in <TROOT::Append>: Replacing existing TH1: hist (Potential memory leak).\n",
      "Warning in <TROOT::Append>: Replacing existing TH1: hist (Potential memory leak).\n"
     ]
    }
   ],
   "source": [
    "evtgen_dict = {\n",
    "    \"bh\" : {\n",
    "        \"name\" : \"Bethe-Heitler\",\n",
    "        \"ttree\": bh_tree,\n",
    "    },\n",
    "    \"photo\" : {\n",
    "        \"name\" : \"J/#Psi Photoproduction\",\n",
    "        \"ttree\": photo_tree\n",
    "    },\n",
    "    \"electro\" : {\n",
    "        \"name\" : \"J/#Psi Electroproduction\",\n",
    "        \"ttree\": electro_tree\n",
    "    }\n",
    "}\n",
    "\n",
    "particle_dict = {\n",
    "    \"ePlus\" : {\n",
    "        \"name\" : \"Decay Positron\",\n",
    "        \"type\" : \"e+\",\n",
    "        \"branch\" : \"ePlus\"\n",
    "    },\n",
    "    \"eMinus\" : {\n",
    "        \"name\" : \"Decay Electron\",\n",
    "        \"type\" : \"e-\",\n",
    "        \"branch\" : \"eMinus\"\n",
    "    },\n",
    "    \"eOut\" : {\n",
    "        \"name\" : \"Scattered Electron\",\n",
    "        \"type\" : \"e-\",\n",
    "        \"branch\" : \"eOut\"\n",
    "    },\n",
    "    \"hOut\" : {\n",
    "        \"name\" : \"Scattered \"+(\"Deuteron\" if TARGET_TYPE==\"d\" else \"Proton\"),\n",
    "        \"type\" : TARGET_TYPE,\n",
    "        \"branch\" : \"hOut\"\n",
    "    }\n",
    "}\n",
    "\n",
    "plot_dict = {\n",
    "    \"p\" : {\n",
    "        \"name\" : [\"P [GeV]\"],\n",
    "        \"draw_name\": [\"P()\"],\n",
    "        \"dimensions\": 1,\n",
    "        \"hist\" : {\"ePlus\": ROOT.TH1F(\"hist\",\"\",100,1,8),\n",
    "                  \"eMinus\": ROOT.TH1F(\"hist\",\"\",100,1,8),\n",
    "                  \"eOut\": ROOT.TH1F(\"hist\",\"\",100,0,15),\n",
    "                  \"hOut\": ROOT.TH1F(\"hist\",\"\",100,0,2)}\n",
    "    },\n",
    "    \"p.vs.theta\" : {\n",
    "        \"name\" : [\"P [GeV]\",\"Lab #Theta [deg]\"],\n",
    "        \"draw_name\": [\"P()\",\"Theta()*180/3.1415\"],\n",
    "        \"dimensions\": 2,\n",
    "        \"hist\" : {\"ePlus\": ROOT.TH2F(\"hist\",\"\",100,1,8,100,0,40),\n",
    "                  \"eMinus\": ROOT.TH2F(\"hist\",\"\",100,1,8,100,0,40),\n",
    "                  \"eOut\": ROOT.TH2F(\"hist\",\"\",100,0,5,100,0,40),\n",
    "                  \"hOut\": ROOT.TH2F(\"hist\",\"\",100,0,2,100,0,40)}\n",
    "    }\n",
    "}"
   ]
  },
  {
   "cell_type": "code",
   "execution_count": 5,
   "id": "logical-liechtenstein",
   "metadata": {},
   "outputs": [
    {
     "data": {
      "image/png": "[encoded data removed]",
      "text/plain": [
       "<IPython.core.display.Image object>"
      ]
     },
     "metadata": {},
     "output_type": "display_data"
    }
   ],
   "source": [
    "plot_number = 20000 # I have no idea why setting this to a high value  prevents errors \n",
    "ROOT.gErrorIgnoreLevel = ROOT.kError\n",
    "for plot, plot_values in plot_dict.items():\n",
    "    for evtgen, evtgen_values in evtgen_dict.items():\n",
    "        for particle, particle_values in particle_dict.items():\n",
    "\n",
    "            c = ROOT.TCanvas(\"c\",\"c\",500,500)\n",
    "            ROOT.gStyle.SetOptStat(0)\n",
    "            ROOT.gPad.SetRightMargin(0.125)\n",
    "            ROOT.gPad.SetLeftMargin(0.125)\n",
    "            tree = evtgen_values[\"ttree\"]\n",
    "            h    = plot_values[\"hist\"][particle].Clone()\n",
    "            h.SetName(f\"hist_{plot_number}\")\n",
    "            weight_str = f\"acc_ePlus*acc_eMinus*acc_hOut*weight*psf*flux*{integrated_luminosity/eval(evtgen+'_events')}\"\n",
    "            #weight_str = f\"weight*psf*flux*acc_hOut*{integrated_luminosity/eval(evtgen+'_events')}\"\n",
    "            if evtgen != \"bh\":\n",
    "                weight_str += \"*decay_weight\"\n",
    "            if plot_values[\"dimensions\"] == 2:\n",
    "                h_title = f\";{plot_values['name'][0]};{plot_values['name'][1]}\"\n",
    "                draw_str = f\"{particle}.{plot_values['draw_name'][1]}:{particle}.{plot_values['draw_name'][0]}>>hist_{plot_number}\"\n",
    "                option_str = \"colz\"\n",
    "                ROOT.gPad.SetLogz()\n",
    "            else:\n",
    "                draw_str = f\"{particle}.{plot_values['draw_name'][0]}>>hist_{plot_number}\"\n",
    "                h_title = f\";{plot_values['name'][0]};Counts\"\n",
    "                option_str = \"hist\"\n",
    "            \n",
    "            tree.Draw(draw_str, weight_str, \"goff\")\n",
    "            h.SetTitle(h_title)\n",
    "            h.Draw(option_str)\n",
    "            \n",
    "            dy = 0.04\n",
    "            x1 = 0.33 if evtgen!=\"bh\" else 0.4\n",
    "            x2 = 0.44\n",
    "            y  = 0.85 \n",
    "            latex = ROOT.TLatex()\n",
    "            latex.SetTextSize(dy-0.005)\n",
    "            latex.SetTextFont(42)\n",
    "            latex.DrawLatexNDC(x1,y,\"#bf{#it{SoLID}} #color[2]{\"+evtgen_values[\"name\"]+\"} Simulation\")\n",
    "            latex.DrawLatexNDC(x2,y-dy,f\"e({beam_energy} GeV)+d#rightarrow\"+(\"J/#Psi(ee)\" if evtgen!=\"bh\" else \"(e+ + e-)\") + \"+d'+X\")\n",
    "            latex.DrawLatexNDC(x2,y-2*dy,f\"L = {luminosity} cm^{{-2}}s^{{-1}} for {days:0.0f} days\")\n",
    "            pave = ROOT.TPaveText(0.175,0.15,0.5,0.22,\"brNDC\")\n",
    "            pave.SetTextFont(42)\n",
    "            pave.SetBorderSize(1)\n",
    "            pave.AddText(particle_values[\"name\"])\n",
    "            pave.Draw(\"same\")\n",
    "            plot_name = f\"{evtgen}_{particle}_{plot}\"\n",
    "            c.SaveAs(f\"{PLOT_DIR_PNG}/{plot_name}.png\")\n",
    "            c.SaveAs(f\"{PLOT_DIR_PDF}/{plot_name}.pdf\")\n",
    "            c.Draw()\n",
    "            plot_number+=1\n",
    "            "
   ]
  },
  {
   "cell_type": "code",
   "execution_count": 31,
   "id": "athletic-pointer",
   "metadata": {},
   "outputs": [
    {
     "data": {
      "image/png": "[encoded data removed]",
      "text/plain": [
       "<IPython.core.display.Image object>"
      ]
     },
     "metadata": {},
     "output_type": "display_data"
    }
   ],
   "source": [
    "c=ROOT.TCanvas()\n",
    "photo_tree.Draw(\"ePlus.Theta()*180/3.1415:eMinus.Theta()*180/3.1415\",\"acc_hOut\",\"colz\")\n",
    "c.Draw()"
   ]
  },
  {
   "cell_type": "code",
   "execution_count": null,
   "id": "surrounded-breeding",
   "metadata": {},
   "outputs": [],
   "source": []
  }
 ],
 "metadata": {
  "kernelspec": {
   "display_name": "Python 3",
   "language": "python",
   "name": "python3"
  },
  "language_info": {
   "codemirror_mode": {
    "name": "ipython",
    "version": 3
   },
   "file_extension": ".py",
   "mimetype": "text/x-python",
   "name": "python",
   "nbconvert_exporter": "python",
   "pygments_lexer": "ipython3",
   "version": "3.8.6"
  }
 },
 "nbformat": 4,
 "nbformat_minor": 5
}
