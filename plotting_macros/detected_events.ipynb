{
 "cells": [
  {
   "cell_type": "code",
   "execution_count": 18,
   "id": "invalid-excitement",
   "metadata": {},
   "outputs": [],
   "source": [
    "import ROOT\n",
    "import os\n",
    "import numpy as np\n",
    "\n",
    "%run ../src/plotting_toolkit.py\n",
    "%run ../src/photoproduction_helper.py\n",
    "%run ../src/electroproduction_helper.py"
   ]
  },
  {
   "cell_type": "code",
   "execution_count": 11,
   "id": "attempted-iceland",
   "metadata": {},
   "outputs": [],
   "source": [
    "def N_EPA(Eb, Eg, Q2_max):\n",
    "    alpha = 1 / 137.0\n",
    "    PI = 3.14159265358979312\n",
    "\n",
    "    x = Eg / Eb\n",
    "    me = 0.000511\n",
    "    Mp = 0.9383\n",
    "    Q2_min = me * me * x * x / (1 - x)\n",
    "    result = (1 / Eb) * alpha / (PI * x) * ((1 - x + x * x / 2) * np.log(Q2_max / Q2_min) - (1 - x))\n",
    "    \n",
    "    return result\n",
    "\n"
   ]
  },
  {
   "cell_type": "code",
   "execution_count": 30,
   "id": "backed-superior",
   "metadata": {},
   "outputs": [
    {
     "name": "stdout",
     "output_type": "stream",
     "text": [
      "gammaE = 6.8532617164750596\n",
      "Brem Flux = 0.0012827048680387227\n",
      "EPA Flux = 0.0202318762107866\n",
      "EPA Flux v2 =  0.003331875985857366\n"
     ]
    }
   ],
   "source": [
    "beamE = 8.8\n",
    "kmin  = 5.67\n",
    "kmax  = 8.8\n",
    "d     = 15\n",
    "X0    = 769.1\n",
    "q2_cut = 150\n",
    "\n",
    "flux_brem, gammaE = Bremmstrahlung(kmin,kmax,beamE,d,X0)\n",
    "flux_epa = N_EquivalentPhotonApproximation(gammaE,beamE,q2_cut)\n",
    "flux_epa_2 = N_EPA(beamE, gammaE,q2_cut)\n",
    "flux_epa = N_EquivalentPhotonApproximation(6.7,8.8,0.2)\n",
    "print(\"gammaE =\",gammaE)\n",
    "print(\"Brem Flux =\",flux_brem)\n",
    "print(\"EPA Flux =\",flux_epa)\n",
    "print(\"EPA Flux v2 = \",flux_epa_2)"
   ]
  },
  {
   "cell_type": "code",
   "execution_count": 42,
   "id": "precise-population",
   "metadata": {},
   "outputs": [
    {
     "name": "stderr",
     "output_type": "stream",
     "text": [
      "Warning in <TROOT::Append>: Replacing existing TH1: h (Potential memory leak).\n"
     ]
    }
   ],
   "source": [
    "N=int(1e5)\n",
    "flux = []\n",
    "Q2 = []\n",
    "h = ROOT.TH1F(\"h\",\"\",100,0,0.02)\n",
    "eIn = ROOT.TLorentzVector(0,0,beamE,np.sqrt(beamE**2-mE**2))\n",
    "eOut = ROOT.TLorentzVector()\n",
    "hIn = ROOT.TLorentzVector(0,0,0,mD)\n",
    "for i in range(N):\n",
    "    f,q = VirtualPhoton(kmin,kmax,beamE,mD,eIn,eOut,hIn)\n",
    "    flux.append(f)\n",
    "    Q2.append(-q.M2())\n",
    "    h.Fill(-q.M2(),f)"
   ]
  },
  {
   "cell_type": "code",
   "execution_count": 43,
   "id": "korean-angel",
   "metadata": {},
   "outputs": [
    {
     "name": "stdout",
     "output_type": "stream",
     "text": [
      "0.0017448034484684467\n"
     ]
    },
    {
     "data": {
      "image/png": "[encoded data removed]",
      "text/plain": [
       "<IPython.core.display.Image object>"
      ]
     },
     "metadata": {},
     "output_type": "display_data"
    }
   ],
   "source": [
    "c=ROOT.TCanvas()\n",
    "h.Draw(\"hist\")\n",
    "print(h.Integral()/N)\n",
    "c.Draw()"
   ]
  },
  {
   "cell_type": "code",
   "execution_count": 63,
   "id": "functioning-allergy",
   "metadata": {},
   "outputs": [
    {
     "name": "stdout",
     "output_type": "stream",
     "text": [
      "Created directory: ./plots/test6/detected_events\n"
     ]
    }
   ],
   "source": [
    "PROJECT_NAME = \"test6\"\n",
    "PROJECT_PATH = \"/volatile/clas12/users/gmat/solid.data/projects/\"\n",
    "TARGET_TYPE  = \"d\"\n",
    "PLOT_DIR = f\"./plots/{PROJECT_NAME}/detected_events\"\n",
    "PLOT_DIR_PNG = f\"{PLOT_DIR}/png\"\n",
    "PLOT_DIR_PDF = f\"{PLOT_DIR}/pdf\"\n",
    "try:\n",
    "    os.makedirs(PLOT_DIR)\n",
    "    os.makedirs(PLOT_DIR_PNG)\n",
    "    os.makedirs(PLOT_DIR_PDF)\n",
    "    print(f\"Created directory: {PLOT_DIR}\")\n",
    "except:\n",
    "    pass"
   ]
  },
  {
   "cell_type": "code",
   "execution_count": 76,
   "id": "bulgarian-backup",
   "metadata": {},
   "outputs": [
    {
     "data": {
      "image/png": "[encoded data removed]",
      "text/plain": [
       "<IPython.core.display.Image object>"
      ]
     },
     "metadata": {},
     "output_type": "display_data"
    }
   ],
   "source": [
    "c=ROOT.TCanvas()\n",
    "\n",
    "photo_tree.Draw(\"flux_epa\",\"weight*(smear_Q2<0.02)\",\"PLC hist\")\n",
    "photo_tree.Draw(\"flux_brem\",\"weight*(smear_Q2<0.02)\",\"PLC hist same\")\n",
    "c.Draw()"
   ]
  },
  {
   "cell_type": "code",
   "execution_count": 64,
   "id": "racial-appeal",
   "metadata": {},
   "outputs": [],
   "source": [
    "bh_tree, photo_tree, electro_tree = get_tchains(PROJECT_NAME,PROJECT_PATH,\"acc\")\n",
    "\n",
    "beam_energy, integrated_luminosity, bh_events, days = get_beamE_lumi_events_days(PROJECT_NAME,PROJECT_PATH,\"bh\")\n",
    "_, _, photo_events, _                               = get_beamE_lumi_events_days(PROJECT_NAME,PROJECT_PATH,\"photoproduction\")\n",
    "_, _, electro_events, _                               = get_beamE_lumi_events_days(PROJECT_NAME,PROJECT_PATH,\"electroproduction\")\n",
    "\n",
    "luminosity = get_lumi_from_integrated(integrated_luminosity,TARGET_TYPE,days)"
   ]
  },
  {
   "cell_type": "code",
   "execution_count": 65,
   "id": "failing-affect",
   "metadata": {},
   "outputs": [],
   "source": [
    "evtgen_dict = {\n",
    "    \"bh\" : {\n",
    "        \"name\" : \"Bethe-Heitler\",\n",
    "        \"tcut\" : f\"acc_ePlus*acc_eMinus*acc_hOut*weight*{integrated_luminosity/bh_events}\",\n",
    "        \"ttree\": bh_tree,\n",
    "    },\n",
    "    \"photo\" : {\n",
    "        \"name\" : \"J/#Psi Photoproduction\",\n",
    "        \"tcut\" : f\"acc_ePlus*acc_eMinus*acc_hOut*weight*{integrated_luminosity/photo_events}\",\n",
    "        \"ttree\": photo_tree\n",
    "    },\n",
    "    \"electro\" : {\n",
    "        \"name\" : \"J/#Psi Electroproduction\",\n",
    "        \"tcut\" : f\"acc_ePlus*acc_eMinus*acc_hOut*weight*{integrated_luminosity/electro_events}\",\n",
    "        \"ttree\": electro_tree\n",
    "    }\n",
    "}\n",
    "\n",
    "\n",
    "plot_dict = {\n",
    "    \"Q2\" : {\n",
    "        \"xtitle\" : \"Q^{2} [GeV^{2}]\",\n",
    "        \"branch\" : \"abs(smear_q.M2())\" ,\n",
    "        \"hist\"   : ROOT.TH1F(\"hist\",\"\",100,0,0.3),\n",
    "    },\n",
    "    \"t\" : {\n",
    "        \"xtitle\" : \"-t [GeV^{2}]\",\n",
    "        \"branch\" : \"-smear_t\" ,\n",
    "        \"hist\"   : ROOT.TH1F(\"hist\",\"\",100,0,3)\n",
    "    },\n",
    "    \"gammaE\" : {\n",
    "        \"xtitle\" : \"E_{#gamma} [GeV]\",\n",
    "        \"branch\" : \"smear_q.E()\" ,\n",
    "        \"hist\"   : ROOT.TH1F(\"hist\",\"\",100,5.5,9)\n",
    "    },\n",
    "    \"VM\" : {\n",
    "        \"xtitle\" : \"M_{e^{+}e^{-}} [GeV]\",\n",
    "        \"branch\" : \"smear_VM.M()\" ,\n",
    "        \"hist\"   : ROOT.TH1F(\"hist\",\"\",100,2.4,3.8)\n",
    "    },\n",
    "    \"W\" : {\n",
    "        \"xtitle\" : \"W [GeV]\",\n",
    "        \"branch\" : \"smear_W\",\n",
    "        \"hist\"   : ROOT.TH1F(\"hist\",\"\",100,5,6.5)\n",
    "    },\n",
    "    \"t_vs_gammaE\" : {\n",
    "        \"xtitle\" : \"E_{#gamma} [GeV]\",\n",
    "        \"xbranch\" : \"smear_q.E()\",\n",
    "        \"ytitle\" : \"-t [GeV^{2}]\",\n",
    "        \"ybranch\" : \"-smear_t\",\n",
    "        \"hist\" : ROOT.TH2F(\"hist\",\"\",100,6.5,9,100,0,3)\n",
    "    },\n",
    "    \"sigmat_vs_t\" : {\n",
    "        \"xtitle\" : \"-t [GeV^{2}]\",\n",
    "        \"xbranch\" : \"-smear_t\",\n",
    "        \"ytitle\" : \"#delta t [GeV^{2}]\",\n",
    "        \"ybranch\" : \"-t+smear_t\",\n",
    "        \"hist\" : ROOT.TH2F(\"hist\",\"\",100,0,3,100,-0.5,0.5)\n",
    "    },\n",
    "    \"sigmaE_vs_E\" : {\n",
    "        \"xtitle\" : \"E [GeV]\",\n",
    "        \"xbranch\" : \"smear_q.E()\",\n",
    "        \"ytitle\" : \"#delta E [GeV]\",\n",
    "        \"ybranch\" : \"gammaE-smear_q.E()\",\n",
    "        \"hist\" : ROOT.TH2F(\"hist\",\"\",100,6.5,9,100,-0.5,0.5)\n",
    "    }\n",
    "}\n",
    "\n",
    "cut_dict = {\n",
    "    \"none\" : {\n",
    "        \"tcut\" : \"\",\n",
    "        \"cutstrings\" : []\n",
    "    },\n",
    "    \"Q2only\" : {\n",
    "        \"tcut\" : \"(abs(smear_q.M2())<0.02)\",\n",
    "        \"cutstrings\" : [\"|Q^{2}| < 0.02 GeV^{2}\"]\n",
    "    },\n",
    "    \"ana\" : {\n",
    "        \"tcut\" : \"(abs(smear_q.M2())<0.02 && smear_VM.M()>3&&smear_VM.M()<3.2)\",\n",
    "        \"cutstrings\" : [\"|Q^{2}| < 0.02 GeV^{2}\", \"3.0 < M_{ee} < 3.2 GeV\"]\n",
    "    }\n",
    "}"
   ]
  },
  {
   "cell_type": "code",
   "execution_count": 66,
   "id": "average-explorer",
   "metadata": {},
   "outputs": [
    {
     "name": "stdout",
     "output_type": "stream",
     "text": [
      "The history saving thread hit an unexpected error (OperationalError('database is locked')).History will not be written to the database.\n"
     ]
    },
    {
     "data": {
      "image/png": "[encoded data removed]",
      "text/plain": [
       "<IPython.core.display.Image object>"
      ]
     },
     "metadata": {},
     "output_type": "display_data"
    }
   ],
   "source": [
    "plot_number = 20000\n",
    "ROOT.gErrorIgnoreLevel = ROOT.kError\n",
    "for plot, plot_values in plot_dict.items():\n",
    "    for evtgen, evtgen_values in evtgen_dict.items():\n",
    "        for cut, cut_values in cut_dict.items():\n",
    "\n",
    "            c = ROOT.TCanvas(\"c\",\"c\",500,500)\n",
    "            ROOT.gStyle.SetOptStat(0)\n",
    "            ROOT.gPad.SetRightMargin(0.125)\n",
    "            ROOT.gPad.SetLeftMargin(0.125)\n",
    "            tree = evtgen_values[\"ttree\"]\n",
    "            h    = plot_values[\"hist\"].Clone()\n",
    "            h.SetLineColor(1)\n",
    "            h.SetLineWidth(2)\n",
    "            h.SetName(f\"hist_{plot_number}\")\n",
    "            weight_str = evtgen_values['tcut']\n",
    "            if cut_values['tcut']:\n",
    "                weight_str+=\"*\"+cut_values['tcut']\n",
    "            if ROOT.TH1F == type(h):\n",
    "                draw_str = f\"{plot_values['branch']}>>hist_{plot_number}\"\n",
    "                h_title = f\";{plot_values['xtitle']};Counts\"\n",
    "                option_str = \"hist\"\n",
    "            else:\n",
    "                draw_str = f\"{plot_values['ybranch']}:{plot_values['xbranch']}>>hist_{plot_number}\"\n",
    "                h_title = f\";{plot_values['xtitle']};{plot_values['ytitle']}\"\n",
    "                option_str = \"colz\"\n",
    "                if \"sigma\" not in plot:\n",
    "                    ROOT.gPad.SetLogz()\n",
    "\n",
    "            tree.Draw(draw_str, weight_str, \"goff\")\n",
    "            h.SetTitle(h_title)\n",
    "            h.Draw(option_str)\n",
    "            if type(h)==ROOT.TH1F:\n",
    "                h.GetYaxis().SetRangeUser(0,h.GetMaximum()*1.2)\n",
    "            else:\n",
    "                h.GetYaxis().SetRangeUser(-h.GetMaximum()*1.2,h.GetMaximum()*1.2)\n",
    "            dy = 0.04\n",
    "            x1 = 0.33 if evtgen!=\"bh\" else 0.4\n",
    "            x2 = 0.44\n",
    "            y  = 0.85 \n",
    "            latex = ROOT.TLatex()\n",
    "            latex.SetTextSize(dy-0.005)\n",
    "            latex.SetTextFont(42)\n",
    "            latex.DrawLatexNDC(x1,y,\"#bf{#it{SoLID}} #color[2]{\"+evtgen_values[\"name\"]+\"} Simulation\")\n",
    "            latex.DrawLatexNDC(x2,y-dy,f\"e({beam_energy} GeV)+d#rightarrow\"+(\"J/#Psi(ee)\" if evtgen!=\"bh\" else \"(e^{+}+e^{-})\") + \"+d'+X\")\n",
    "            latex.DrawLatexNDC(x2,y-2*dy,f\"L = {luminosity} cm^{{-2}}s^{{-1}} for {days:0.0f} days\")\n",
    "            for i in range(len(cut_values['cutstrings'])):\n",
    "                latex.DrawLatexNDC(x2+0.09,y-(3+i)*dy,cut_values['cutstrings'][i])\n",
    "            plot_name = f\"{evtgen}_{plot}\"\n",
    "            c.SaveAs(f\"{PLOT_DIR_PNG}/{plot_name}.cut_{cut}.png\")\n",
    "            c.SaveAs(f\"{PLOT_DIR_PDF}/{plot_name}.cut_{cut}.pdf\")\n",
    "            c.Draw()\n",
    "            plot_number+=1\n"
   ]
  },
  {
   "cell_type": "code",
   "execution_count": 67,
   "id": "lyric-farmer",
   "metadata": {},
   "outputs": [
    {
     "data": {
      "image/png": "[encoded data removed]",
      "text/plain": [
       "<IPython.core.display.Image object>"
      ]
     },
     "metadata": {},
     "output_type": "display_data"
    }
   ],
   "source": [
    "plot_number = 0 \n",
    "ROOT.gErrorIgnoreLevel = ROOT.kError\n",
    "for cut, cut_values in cut_dict.items():\n",
    "    for plot, plot_values in plot_dict.items():\n",
    "        h    = plot_values[\"hist\"].Clone()\n",
    "        if type(h) == ROOT.TH2F:\n",
    "            continue\n",
    "        c = ROOT.TCanvas(\"c\",\"c\",500,500)\n",
    "        H=[]\n",
    "        legend=ROOT.TLegend(0.125,0.9,0.875,0.96)\n",
    "        legend.SetNColumns(3)\n",
    "\n",
    "        for evtgen, evtgen_values in evtgen_dict.items():\n",
    "\n",
    "            ROOT.gPad.SetLogy()\n",
    "            ROOT.gStyle.SetOptStat(0)\n",
    "            ROOT.gPad.SetRightMargin(0.125)\n",
    "            ROOT.gPad.SetLeftMargin(0.125)\n",
    "            tree = evtgen_values[\"ttree\"]\n",
    "            h    = plot_values[\"hist\"].Clone()\n",
    "\n",
    "            h.SetLineColor(1)\n",
    "            h.SetLineWidth(2)\n",
    "            h.SetName(f\"hist_{plot_number}\")\n",
    "            weight_str = evtgen_values['tcut']\n",
    "            if cut_values['tcut']:\n",
    "                weight_str+=\"*\"+cut_values['tcut']\n",
    "            draw_str = f\"{plot_values['branch']}>>hist_{plot_number}\"\n",
    "            h_title = f\";{plot_values['xtitle']};Counts\"\n",
    "            option_str = \"hist\"\n",
    "\n",
    "            tree.Draw(draw_str, weight_str, \"goff\")\n",
    "            h.SetTitle(h_title)\n",
    "            if evtgen==\"bh\":\n",
    "                h.SetLineColor(1)\n",
    "            elif evtgen==\"photo\":\n",
    "                h.SetLineColor(4)\n",
    "            else:\n",
    "                h.SetLineColor(2)\n",
    "\n",
    "\n",
    "            H.append(h)\n",
    "            H[-1].Draw(option_str + \" same\")\n",
    "            legend.AddEntry(H[-1],evtgen_values[\"name\"],\"l\")\n",
    "            plot_number+=1\n",
    "\n",
    "        if type(H[-1]) == ROOT.TH1F:\n",
    "            ymax = H[-1].GetMaximum()\n",
    "            for h in H:\n",
    "                ymax0 = h.GetMaximum()\n",
    "                if ymax0>ymax:\n",
    "                    ymax=ymax0\n",
    "\n",
    "        H[0].GetYaxis().SetRangeUser(1,ymax*4)\n",
    "        dy = 0.04\n",
    "        x1 = 0.44\n",
    "        x2 = 0.44\n",
    "        y  = 0.86 \n",
    "        latex = ROOT.TLatex()\n",
    "        latex.SetTextSize(dy-0.005)\n",
    "        latex.SetTextFont(42)\n",
    "        latex.DrawLatexNDC(x1,y,\"#bf{#it{SoLID}} Monte Carlo Simulation\")\n",
    "        latex.DrawLatexNDC(x2,y-dy,f\"e({beam_energy} GeV)+d#rightarrow e^{{+}}+e^{{-}}+{TARGET_TYPE}'+X\")\n",
    "        latex.DrawLatexNDC(x2,y-2*dy,f\"L = {luminosity} cm^{{-2}}s^{{-1}} for {days:0.0f} days\")\n",
    "        for i in range(len(cut_values['cutstrings'])):\n",
    "            latex.DrawLatexNDC(x2+0.1,y-(3+i)*dy,cut_values['cutstrings'][i])\n",
    "        legend.Draw(\"same\")\n",
    "        plot_name = f\"{plot}\"\n",
    "        c.SaveAs(f\"{PLOT_DIR_PNG}/all.{plot_name}.cut_{cut}.png\")\n",
    "        c.SaveAs(f\"{PLOT_DIR_PDF}/all.{plot_name}.cut_{cut}.pdf\")\n",
    "        c.Draw()\n",
    "    \n",
    "            "
   ]
  },
  {
   "cell_type": "code",
   "execution_count": 5,
   "id": "included-accident",
   "metadata": {},
   "outputs": [],
   "source": [
    "bh_tree, photo_tree, electro_tree = get_tchains(PROJECT_NAME,PROJECT_PATH,\"all\")\n",
    "\n",
    "beam_energy, integrated_luminosity, bh_events, days = get_beamE_lumi_events_days(PROJECT_NAME,PROJECT_PATH,\"bh\")\n",
    "_, _, photo_events, _                               = get_beamE_lumi_events_days(PROJECT_NAME,PROJECT_PATH,\"photoproduction\")\n",
    "_, _, electro_events, _                               = get_beamE_lumi_events_days(PROJECT_NAME,PROJECT_PATH,\"electroproduction\")\n",
    "\n",
    "luminosity = get_lumi_from_integrated(integrated_luminosity,TARGET_TYPE,days)"
   ]
  },
  {
   "cell_type": "code",
   "execution_count": 6,
   "id": "mathematical-indian",
   "metadata": {},
   "outputs": [
    {
     "name": "stderr",
     "output_type": "stream",
     "text": [
      "/opt/root/lib/ROOT/_facade.py:121: UserWarning: Pandas requires version '2.7.3' or newer of 'numexpr' (version '2.7.2' currently installed).\n",
      "  return _orig_ihook(name, *args, **kwds)\n"
     ]
    }
   ],
   "source": [
    "%run ../src/dvmp_cross_section.py\n",
    "DVMP = dvmpProduction(\"d\",\"PomeronLQCD\")"
   ]
  },
  {
   "cell_type": "code",
   "execution_count": 20,
   "id": "coral-settlement",
   "metadata": {},
   "outputs": [
    {
     "name": "stdout",
     "output_type": "stream",
     "text": [
      "8.602409638554217\n"
     ]
    },
    {
     "name": "stderr",
     "output_type": "stream",
     "text": [
      "Warning in <TCanvas::Constructor>: Deleting canvas with same name: c\n",
      "Warning in <TROOT::Append>: Replacing existing TH1: h (Potential memory leak).\n",
      "Warning in <TROOT::Append>: Replacing existing TH1: hcounts (Potential memory leak).\n"
     ]
    },
    {
     "data": {
      "image/png": "[encoded data removed]",
      "text/plain": [
       "<IPython.core.display.Image object>"
      ]
     },
     "metadata": {},
     "output_type": "display_data"
    }
   ],
   "source": [
    "def get_TGraph_dsigma_dt(E):\n",
    "    idx_E = np.abs(E - DVMP.E_deuteron).argmin() # Find closest value to desired energy in the dsigmadt table\n",
    "    E = DVMP.E_deuteron[idx_E]\n",
    "    print(E)\n",
    "    dsdt = DVMP.DSDT_deuteron[DVMP.E_deuteron==E]\n",
    "    kinematic_tmin = DVMP.get_tmin(E)\n",
    "    t = DVMP.T_deuteron[DVMP.E_deuteron==E] #+ kinematic_tmin\n",
    "    \n",
    "    graph = ROOT.TGraph(len(t))\n",
    "    for i in range(len(t)):\n",
    "        graph.SetPoint(i,t[i],dsdt[i])\n",
    "    graph.SetMarkerStyle(20)\n",
    "    graph.SetMarkerSize(0.1)\n",
    "    return graph\n",
    "\n",
    "c=ROOT.TCanvas(\"c\",\"c\",500,500)\n",
    "Emin = 8.4\n",
    "Emax = 8.8\n",
    "graph = get_TGraph_dsigma_dt(0.5*(Emax+Emin))\n",
    "h = ROOT.TH1F(\"h\",\"\",100,0,3)\n",
    "hcounts = ROOT.TH1F(\"hcounts\",\"\",100,0,3)\n",
    "deltat = h.GetBinWidth(2)\n",
    "h.SetLineColor(2)\n",
    "evts = photo_events\n",
    "\n",
    "photo_tree.Draw(\"-t>>h\",f\"dsigma*({Emax}>gammaE&&{Emin}<gammaE)\")\n",
    "photo_tree.Draw(\"-t>>hcounts\",f\"({Emax}>gammaE&&{Emin}<gammaE)\",\"goff\")\n",
    "h.Divide(hcounts)\n",
    "graph.Draw(\"l same\")\n",
    "h.Draw(\"P same\")\n",
    "c.SetLogy()\n",
    "c.Draw()"
   ]
  },
  {
   "cell_type": "code",
   "execution_count": 31,
   "id": "efficient-revolution",
   "metadata": {},
   "outputs": [
    {
     "name": "stdout",
     "output_type": "stream",
     "text": [
      "8.602409638554217\n"
     ]
    },
    {
     "name": "stderr",
     "output_type": "stream",
     "text": [
      "Warning in <TCanvas::Constructor>: Deleting canvas with same name: c\n",
      "Error in <TList::Clear>: A list is accessing an object (0x55ccb94234d0) already deleted (list name = TList)\n"
     ]
    },
    {
     "data": {
      "image/png": "[encoded data removed]",
      "text/plain": [
       "<IPython.core.display.Image object>"
      ]
     },
     "metadata": {},
     "output_type": "display_data"
    }
   ],
   "source": [
    "import copy\n",
    "def plot_dsigma_dt_histogram_and_graph(photo_tree, Emin, Emax):\n",
    "    \"\"\"\n",
    "    Plot histogram and graph for dsigma/dt for given energy range\n",
    "\n",
    "    Parameters:\n",
    "    - photo_tree: Input TTree with data\n",
    "    - Emin, Emax: Energy range for which to consider events\n",
    "    \"\"\"\n",
    "\n",
    "    # Create canvas\n",
    "    c = ROOT.TCanvas(\"c\", \"c\", 500, 500)\n",
    "\n",
    "    # Prepare the histogram\n",
    "    h = ROOT.TH1F(\"h\", \"\", 35, 0, 3)\n",
    "    h.SetLineColor(2)\n",
    "    hcounts = ROOT.TH1F(\"hcounts\", \"\", 35, 0, 3)\n",
    "    \n",
    "    # Define the energy range and conditions\n",
    "    energy_condition = f\"{Emax}>gammaE && {Emin}<gammaE\"\n",
    "\n",
    "    # Fill histograms with data from the tree\n",
    "    photo_tree.Draw(\"-t>>h\", f\"dsigma*({energy_condition})\")\n",
    "    photo_tree.Draw(\"-t>>hcounts\", energy_condition, \"goff\")\n",
    "    \n",
    "    # Normalize the main histogram\n",
    "    h.Divide(hcounts)\n",
    "\n",
    "    # Get the graph for dsigma/dt\n",
    "    mid_energy = 0.5 * (Emax + Emin)\n",
    "    graph = get_TGraph_dsigma_dt(mid_energy)\n",
    "\n",
    "    # Draw graph and histogram\n",
    "    graph.Draw(\"l same\")\n",
    "    h.Draw(\"P same\")\n",
    "    \n",
    "    # Draw TLegend\n",
    "    legend = ROOT.TLegend(0.4,0.75,0.875,0.875)\n",
    "    legend.AddEntry(h,\"Monte Carlo d#sigma/dt (4#pi acc.)\",\"le\")\n",
    "    legend.AddEntry(graph,f\"Harry's Model at E={mid_energy:.1f}\",\"l\")\n",
    "    legend.Draw()\n",
    "    # Set log scale on y-axis\n",
    "    c.SetLogy()\n",
    "    ROOT.gStyle.SetOptStat(0)\n",
    "\n",
    "    return copy.deepcopy(c)\n",
    "\n",
    "# Given energy range\n",
    "Emin = 8.4\n",
    "Emax = 8.8\n",
    "\n",
    "# Assuming photo_events is defined somewhere above in the original script\n",
    "evts = photo_events\n",
    "\n",
    "# Execute the function\n",
    "c=plot_dsigma_dt_histogram_and_graph(photo_tree, Emin, Emax)\n",
    "c.Draw()"
   ]
  },
  {
   "cell_type": "code",
   "execution_count": 38,
   "id": "exceptional-louis",
   "metadata": {},
   "outputs": [],
   "source": [
    "GenPhase = ROOT.TGenPhaseSpace()\n",
    "VM = ROOT.TLorentzVector(0,0,0,3)\n",
    "m  = 0.000511\n",
    "GenPhase.SetDecay(VM,2,np.array([m,m]))\n",
    "N = int(1e6)\n",
    "\n",
    "theta = []\n",
    "phi = []\n",
    "w   = []\n",
    "\n",
    "for i in range(N):\n",
    "    GenPhase.Generate()\n",
    "    p1 = GenPhase.GetDecay(0)\n",
    "    theta.append(p1.Theta())\n",
    "    phi.append(p1.Phi())\n",
    "    r=0\n",
    "    w.append(3/8/np.pi*(1-r+(3*r-1)*np.cos(p1.Theta())**2))"
   ]
  },
  {
   "cell_type": "code",
   "execution_count": 49,
   "id": "digital-hands",
   "metadata": {},
   "outputs": [
    {
     "name": "stderr",
     "output_type": "stream",
     "text": [
      "Warning in <TROOT::Append>: Replacing existing TH1: h2 (Potential memory leak).\n"
     ]
    },
    {
     "data": {
      "image/png": "[encoded data removed]",
      "text/plain": [
       "<IPython.core.display.Image object>"
      ]
     },
     "metadata": {},
     "output_type": "display_data"
    }
   ],
   "source": [
    "h2 = ROOT.TH2F(\"h2\",\"\",50,-1,1,15,-np.pi,np.pi)\n",
    "for i in range(N):\n",
    "    h2.Fill(np.cos(theta[i]),phi[i],w[i]/N)\n",
    "c=ROOT.TCanvas()\n",
    "h2.Draw(\"colz\")\n",
    "c.Draw()"
   ]
  },
  {
   "cell_type": "code",
   "execution_count": 50,
   "id": "freelance-faith",
   "metadata": {},
   "outputs": [
    {
     "data": {
      "text/plain": [
       "0.9991659406148417"
      ]
     },
     "execution_count": 50,
     "metadata": {},
     "output_type": "execute_result"
    }
   ],
   "source": [
    "h2.Integral()*4*np.pi"
   ]
  },
  {
   "cell_type": "code",
   "execution_count": 45,
   "id": "pretty-indicator",
   "metadata": {},
   "outputs": [
    {
     "data": {
      "text/plain": [
       "12.566370614359172"
      ]
     },
     "execution_count": 45,
     "metadata": {},
     "output_type": "execute_result"
    }
   ],
   "source": [
    "4*np.pi"
   ]
  },
  {
   "cell_type": "code",
   "execution_count": null,
   "id": "industrial-statement",
   "metadata": {},
   "outputs": [],
   "source": []
  }
 ],
 "metadata": {
  "kernelspec": {
   "display_name": "Python 3",
   "language": "python",
   "name": "python3"
  },
  "language_info": {
   "codemirror_mode": {
    "name": "ipython",
    "version": 3
   },
   "file_extension": ".py",
   "mimetype": "text/x-python",
   "name": "python",
   "nbconvert_exporter": "python",
   "pygments_lexer": "ipython3",
   "version": "3.8.6"
  }
 },
 "nbformat": 4,
 "nbformat_minor": 5
}
