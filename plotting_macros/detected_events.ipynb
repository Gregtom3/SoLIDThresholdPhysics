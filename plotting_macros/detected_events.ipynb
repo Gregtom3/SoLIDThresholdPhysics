{
 "cells": [
  {
   "cell_type": "code",
   "execution_count": 3,
   "id": "ordered-editing",
   "metadata": {},
   "outputs": [
    {
     "name": "stdout",
     "output_type": "stream",
     "text": [
      "Welcome to JupyROOT 6.22/06\n"
     ]
    }
   ],
   "source": [
    "import ROOT\n",
    "import os\n",
    "import numpy as np\n",
    "%run ../src/plotting_toolkit.py"
   ]
  },
  {
   "cell_type": "code",
   "execution_count": 4,
   "id": "alive-great",
   "metadata": {},
   "outputs": [],
   "source": [
    "PROJECT_NAME = \"test4\"\n",
    "PROJECT_PATH = \"/volatile/clas12/users/gmat/solid.data/coherent_deuteron_threshold/projects/\"\n",
    "TARGET_TYPE  = \"d\"\n",
    "PLOT_DIR = f\"./plots/{PROJECT_NAME}/detected_events\"\n",
    "PLOT_DIR_PNG = f\"{PLOT_DIR}/png\"\n",
    "PLOT_DIR_PDF = f\"{PLOT_DIR}/pdf\"\n",
    "try:\n",
    "    os.makedirs(PLOT_DIR)\n",
    "    os.makedirs(PLOT_DIR_PNG)\n",
    "    os.makedirs(PLOT_DIR_PDF)\n",
    "    print(f\"Created directory: {PLOT_DIR}\")\n",
    "except:\n",
    "    pass"
   ]
  },
  {
   "cell_type": "code",
   "execution_count": 5,
   "id": "close-melissa",
   "metadata": {},
   "outputs": [],
   "source": [
    "bh_tree, photo_tree, electro_tree = get_tchains(PROJECT_NAME,PROJECT_PATH,\"acc\")\n",
    "\n",
    "beam_energy, integrated_luminosity, bh_events, days = get_beamE_lumi_events_days(PROJECT_NAME,PROJECT_PATH,\"bh\")\n",
    "_, _, photo_events, _                               = get_beamE_lumi_events_days(PROJECT_NAME,PROJECT_PATH,\"photoproduction\")\n",
    "_, _, electro_events, _                               = get_beamE_lumi_events_days(PROJECT_NAME,PROJECT_PATH,\"electroproduction\")\n",
    "\n",
    "luminosity = get_lumi_from_integrated(integrated_luminosity,TARGET_TYPE,days)"
   ]
  },
  {
   "cell_type": "code",
   "execution_count": 6,
   "id": "perceived-essence",
   "metadata": {},
   "outputs": [
    {
     "name": "stderr",
     "output_type": "stream",
     "text": [
      "Warning in <TROOT::Append>: Replacing existing TH1: hist (Potential memory leak).\n",
      "Warning in <TROOT::Append>: Replacing existing TH1: hist (Potential memory leak).\n",
      "Warning in <TROOT::Append>: Replacing existing TH1: hist (Potential memory leak).\n"
     ]
    }
   ],
   "source": [
    "evtgen_dict = {\n",
    "    \"bh\" : {\n",
    "        \"name\" : \"Bethe-Heitler\",\n",
    "        \"tcut\" : f\"acc_ePlus*acc_eMinus*acc_hOut*weight*psf*flux*{integrated_luminosity/bh_events}\",\n",
    "        \"ttree\": bh_tree,\n",
    "    },\n",
    "    \"photo\" : {\n",
    "        \"name\" : \"J/#Psi Photoproduction\",\n",
    "        \"tcut\" : f\"acc_ePlus*acc_eMinus*acc_hOut*weight*psf*flux*decay_weight*{integrated_luminosity/photo_events}\",\n",
    "        \"ttree\": photo_tree\n",
    "    },\n",
    "    \"electro\" : {\n",
    "        \"name\" : \"J/#Psi Electroproduction\",\n",
    "        \"tcut\" : f\"acc_ePlus*acc_eMinus*acc_hOut*weight*psf*flux*decay_weight*{integrated_luminosity/electro_events}\",\n",
    "        \"ttree\": electro_tree\n",
    "    }\n",
    "}\n",
    "\n",
    "\n",
    "plot_dict = {\n",
    "    \"Q2\" : {\n",
    "        \"xtitle\" : \"Q^{2} [GeV^{2}]\",\n",
    "        \"branch\" : \"smear_q.M2()\" ,\n",
    "        \"hist\"   : ROOT.TH1F(\"hist\",\"\",100,-1,1),\n",
    "    },\n",
    "    \"t\" : {\n",
    "        \"xtitle\" : \"-t [GeV^{2}]\",\n",
    "        \"branch\" : \"-smear_t\" ,\n",
    "        \"hist\"   : ROOT.TH1F(\"hist\",\"\",100,0,3)\n",
    "    },\n",
    "    \"gammaE\" : {\n",
    "        \"xtitle\" : \"E_{#gamma} [GeV]\",\n",
    "        \"branch\" : \"smear_q.E()\" ,\n",
    "        \"hist\"   : ROOT.TH1F(\"hist\",\"\",100,5.5,9)\n",
    "    },\n",
    "    \"VM\" : {\n",
    "        \"xtitle\" : \"M_{e^{+}e^{-}} [GeV]\",\n",
    "        \"branch\" : \"smear_VM.M()\" ,\n",
    "        \"hist\"   : ROOT.TH1F(\"hist\",\"\",100,2.4,3.8)\n",
    "    }\n",
    "}\n",
    "\n",
    "cut_dict = {\n",
    "    \"none\" : {\n",
    "        \"tcut\" : \"\",\n",
    "        \"cutstrings\" : []\n",
    "    },\n",
    "    \"Q2only\" : {\n",
    "        \"tcut\" : \"(abs(smear_q.M2())<0.02)\",\n",
    "        \"cutstrings\" : [\"|Q^{2}| < 0.02 GeV^{2}\"]\n",
    "    },\n",
    "    \"ana\" : {\n",
    "        \"tcut\" : \"(abs(smear_q.M2())<0.02 && smear_VM.M()>3&&smear_VM.M()<3.2)\",\n",
    "        \"cutstrings\" : [\"|Q^{2}| < 0.02 GeV^{2}\", \"3.0 < M_{ee} < 3.2 GeV\"]\n",
    "    }\n",
    "}"
   ]
  },
  {
   "cell_type": "code",
   "execution_count": 7,
   "id": "sporting-overview",
   "metadata": {},
   "outputs": [
    {
     "data": {
      "image/png": "[encoded data removed]",
      "text/plain": [
       "<IPython.core.display.Image object>"
      ]
     },
     "metadata": {},
     "output_type": "display_data"
    }
   ],
   "source": [
    "plot_number = 20000\n",
    "ROOT.gErrorIgnoreLevel = ROOT.kError\n",
    "for plot, plot_values in plot_dict.items():\n",
    "    for evtgen, evtgen_values in evtgen_dict.items():\n",
    "        for cut, cut_values in cut_dict.items():\n",
    "\n",
    "            c = ROOT.TCanvas(\"c\",\"c\",500,500)\n",
    "            ROOT.gStyle.SetOptStat(0)\n",
    "            ROOT.gPad.SetRightMargin(0.125)\n",
    "            ROOT.gPad.SetLeftMargin(0.125)\n",
    "            tree = evtgen_values[\"ttree\"]\n",
    "            h    = plot_values[\"hist\"].Clone()\n",
    "            h.SetLineColor(1)\n",
    "            h.SetLineWidth(2)\n",
    "            h.SetName(f\"hist_{plot_number}\")\n",
    "            weight_str = evtgen_values['tcut']\n",
    "            if cut_values['tcut']:\n",
    "                weight_str+=\"*\"+cut_values['tcut']\n",
    "            draw_str = f\"{plot_values['branch']}>>hist_{plot_number}\"\n",
    "            h_title = f\";{plot_values['xtitle']};Counts\"\n",
    "            option_str = \"hist\"\n",
    "\n",
    "            tree.Draw(draw_str, weight_str, \"goff\")\n",
    "            h.SetTitle(h_title)\n",
    "            h.Draw(option_str)\n",
    "            h.GetYaxis().SetRangeUser(0,h.GetMaximum()*1.2)\n",
    "\n",
    "            dy = 0.04\n",
    "            x1 = 0.33 if evtgen!=\"bh\" else 0.4\n",
    "            x2 = 0.44\n",
    "            y  = 0.85 \n",
    "            latex = ROOT.TLatex()\n",
    "            latex.SetTextSize(dy-0.005)\n",
    "            latex.SetTextFont(42)\n",
    "            latex.DrawLatexNDC(x1,y,\"#bf{#it{SoLID}} #color[2]{\"+evtgen_values[\"name\"]+\"} Simulation\")\n",
    "            latex.DrawLatexNDC(x2,y-dy,f\"e({beam_energy} GeV)+d#rightarrow\"+(\"J/#Psi(ee)\" if evtgen!=\"bh\" else \"(e^{+}+e^{-})\") + \"+d'+X\")\n",
    "            latex.DrawLatexNDC(x2,y-2*dy,f\"L = {luminosity} cm^{{-2}}s^{{-1}} for {days:0.0f} days\")\n",
    "            for i in range(len(cut_values['cutstrings'])):\n",
    "                latex.DrawLatexNDC(x2+0.05,y-(3+i)*dy,cut_values['cutstrings'][i])\n",
    "            plot_name = f\"{evtgen}_{plot}\"\n",
    "            c.SaveAs(f\"{PLOT_DIR_PNG}/{plot_name}.cut_{cut}.png\")\n",
    "            c.SaveAs(f\"{PLOT_DIR_PDF}/{plot_name}.cut_{cut}.pdf\")\n",
    "            c.Draw()\n",
    "            plot_number+=1\n"
   ]
  },
  {
   "cell_type": "code",
   "execution_count": 8,
   "id": "frank-switzerland",
   "metadata": {},
   "outputs": [
    {
     "data": {
      "image/png": "[encoded data removed]",
      "text/plain": [
       "<IPython.core.display.Image object>"
      ]
     },
     "metadata": {},
     "output_type": "display_data"
    }
   ],
   "source": [
    "plot_number = 0 \n",
    "ROOT.gErrorIgnoreLevel = ROOT.kError\n",
    "for cut, cut_values in cut_dict.items():\n",
    "    for plot, plot_values in plot_dict.items():\n",
    "        c = ROOT.TCanvas(\"c\",\"c\",500,500)\n",
    "        H=[]\n",
    "        legend=ROOT.TLegend(0.125,0.9,0.875,0.96)\n",
    "        legend.SetNColumns(3)\n",
    "\n",
    "        for evtgen, evtgen_values in evtgen_dict.items():\n",
    "\n",
    "            ROOT.gPad.SetLogy()\n",
    "            ROOT.gStyle.SetOptStat(0)\n",
    "            ROOT.gPad.SetRightMargin(0.125)\n",
    "            ROOT.gPad.SetLeftMargin(0.125)\n",
    "            tree = evtgen_values[\"ttree\"]\n",
    "            h    = plot_values[\"hist\"].Clone()\n",
    "            h.SetLineColor(1)\n",
    "            h.SetLineWidth(2)\n",
    "            h.SetName(f\"hist_{plot_number}\")\n",
    "            weight_str = evtgen_values['tcut']\n",
    "            if cut_values['tcut']:\n",
    "                weight_str+=\"*\"+cut_values['tcut']\n",
    "            draw_str = f\"{plot_values['branch']}>>hist_{plot_number}\"\n",
    "            h_title = f\";{plot_values['xtitle']};Counts\"\n",
    "            option_str = \"hist\"\n",
    "\n",
    "            tree.Draw(draw_str, weight_str, \"goff\")\n",
    "            h.SetTitle(h_title)\n",
    "            if evtgen==\"bh\":\n",
    "                h.SetLineColor(1)\n",
    "            elif evtgen==\"photo\":\n",
    "                h.SetLineColor(4)\n",
    "            else:\n",
    "                h.SetLineColor(2)\n",
    "\n",
    "\n",
    "            H.append(h)\n",
    "            H[-1].Draw(option_str + \" same\")\n",
    "            legend.AddEntry(H[-1],evtgen_values[\"name\"],\"l\")\n",
    "            plot_number+=1\n",
    "\n",
    "        ymax = H[-1].GetMaximum()\n",
    "        for h in H:\n",
    "            ymax0 = h.GetMaximum()\n",
    "            if ymax0>ymax:\n",
    "                ymax=ymax0\n",
    "\n",
    "        H[0].GetYaxis().SetRangeUser(1,ymax*4)\n",
    "        dy = 0.04\n",
    "        x1 = 0.44\n",
    "        x2 = 0.44\n",
    "        y  = 0.86 \n",
    "        latex = ROOT.TLatex()\n",
    "        latex.SetTextSize(dy-0.005)\n",
    "        latex.SetTextFont(42)\n",
    "        latex.DrawLatexNDC(x1,y,\"#bf{#it{SoLID}} Monte Carlo Simulation\")\n",
    "        latex.DrawLatexNDC(x2,y-dy,f\"e({beam_energy} GeV)+d#rightarrow e^{{+}}+e^{{-}}+{TARGET_TYPE}'+X\")\n",
    "        latex.DrawLatexNDC(x2,y-2*dy,f\"L = {luminosity} cm^{{-2}}s^{{-1}} for {days:0.0f} days\")\n",
    "        for i in range(len(cut_values['cutstrings'])):\n",
    "            latex.DrawLatexNDC(x2+0.1,y-(3+i)*dy,cut_values['cutstrings'][i])\n",
    "        legend.Draw(\"same\")\n",
    "        plot_name = f\"{plot}\"\n",
    "        c.SaveAs(f\"{PLOT_DIR_PNG}/all.{plot_name}.cut_{cut}.png\")\n",
    "        c.SaveAs(f\"{PLOT_DIR_PDF}/all.{plot_name}.cut_{cut}.pdf\")\n",
    "        c.Draw()\n",
    "    \n",
    "            "
   ]
  },
  {
   "cell_type": "code",
   "execution_count": null,
   "id": "civic-reviewer",
   "metadata": {},
   "outputs": [],
   "source": []
  }
 ],
 "metadata": {
  "kernelspec": {
   "display_name": "Python 3",
   "language": "python",
   "name": "python3"
  },
  "language_info": {
   "codemirror_mode": {
    "name": "ipython",
    "version": 3
   },
   "file_extension": ".py",
   "mimetype": "text/x-python",
   "name": "python",
   "nbconvert_exporter": "python",
   "pygments_lexer": "ipython3",
   "version": "3.8.6"
  }
 },
 "nbformat": 4,
 "nbformat_minor": 5
}
